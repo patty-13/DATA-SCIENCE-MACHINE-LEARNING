{
 "cells": [
  {
   "cell_type": "code",
   "execution_count": null,
   "metadata": {},
   "outputs": [],
   "source": [
    "import numpy as np\n",
    "import matplotlib.pyplot as plt\n",
    "import pandas as pd\n",
    "cols_1 = [2,3,4,6]\n",
    "df = pd.read_excel('final_1.xlsx', usecols = cols_1)\n",
    "df_1 = pd.read_excel('123.xlsx')"
   ]
  },
  {
   "cell_type": "code",
   "execution_count": null,
   "metadata": {},
   "outputs": [],
   "source": [
    "df.head()"
   ]
  },
  {
   "cell_type": "code",
   "execution_count": null,
   "metadata": {},
   "outputs": [],
   "source": [
    "df_1.head()"
   ]
  },
  {
   "cell_type": "code",
   "execution_count": null,
   "metadata": {},
   "outputs": [],
   "source": [
    "a = df['tenure'].tolist()\n",
    "b = df['MonthlyCharges'].tolist()\n",
    "c = df_1['TotalCharges'].tolist()\n",
    "d = df['Total Services'].tolist()\n",
    "print(\"tenure\" ,a)\n",
    "print(\"MonthlyCharges\",b)\n",
    "print(\"TotalCharges\",c)\n",
    "print(\"Total Services\",d)"
   ]
  },
  {
   "cell_type": "code",
   "execution_count": null,
   "metadata": {},
   "outputs": [],
   "source": [
    "m = 1.0\n",
    "m1 = 1.0\n",
    "m2 = 1.0\n",
    "b1 = 0.5\n",
    "y = []\n",
    "for i in range(7043):\n",
    "    y.append(b1 + m*a[i] + m1*b[i] + m2*d[i]) \n",
    "\n",
    "    print(i,y[i])\n",
    "y_mean = (np.sum(y)/7043)\n",
    "#method _1\n",
    "#using statistics equations\n",
    "\n",
    "    # run it till epochs\n",
    "    # equations will be loss function :=1/nsummation(y actual - y predicted)**2\n",
    "    # gradient descent will be : = for Dm = m = 0 c= 0  -2/n summation xi *(yactual - y predicted)\n",
    "    # gradient descent will be : = for Dm1 = same as aboove\n",
    "    # gradient descent will be : = for Dm2 = same as above\n",
    "    # gradien descent will be := for b1 = -2/n summation y actual - y predicted\n",
    "    # update it till m = m - learning_rate*Dm\n",
    "    #similar for all other dms\n"
   ]
  },
  {
   "cell_type": "code",
   "execution_count": null,
   "metadata": {},
   "outputs": [],
   "source": [
    "s1 = 0.0\n",
    "s2 = 0.0\n",
    "s3 = 0.0\n",
    "s_1 = 0.0\n",
    "s_2 = 0.0\n",
    "s_3 = 0.0\n",
    "b2 = 0.0\n",
    "y1 = []\n",
    "j =0\n",
    "epochs = 1000\n",
    "x1_mean = np.sum(df['tenure'])/7043\n",
    "x2_mean = np.sum(df['MonthlyCharges'])/7043 \n",
    "x3_mean = np.sum(df['Total Services'])/7043\n",
    "for i in range(epochs):\n",
    "    print(\"EPOCH:\",i)\n",
    "    while(j<7043):\n",
    "        y1  = b2 + m*a[j] + m1*b[j] + m2*d[j]\n",
    "        s1 += (a[j]) - (x1_mean)*(y - y_mean)\n",
    "        s_1 += (a[j] - x1_mean)**2    \n",
    "        s2 += (b[j] - x2_mean)*(y - y_mean)\n",
    "        s_2 += (b[j] - x2_mean)**2\n",
    "        s3 += (d[j] - x3_mean)*(y - y_mean)\n",
    "        s_3 += (d[j] - x3_mean)**2\n",
    "        j+=1\n",
    "    b = y_mean - (m + m1 + m2)*(x1_mean + x2_mean + x3_mean)\n",
    "    m = (s1/s_1)\n",
    "    m1 = (s2/s_2)\n",
    "    m2 = (s3/s_3)\n",
    "print(m,m1,m2,b)"
   ]
  },
  {
   "cell_type": "code",
   "execution_count": null,
   "metadata": {},
   "outputs": [],
   "source": []
  },
  {
   "cell_type": "code",
   "execution_count": null,
   "metadata": {},
   "outputs": [],
   "source": [
    "ls = 0.0\n",
    "dms = 0.0\n",
    "dm1s = 0.0\n",
    "dm2s = 0.0\n",
    "Dm = 0.0\n",
    "Dm1 = 0.0\n",
    "Dm2 = 0.0\n",
    "Db2 = 0.0\n",
    "n = 7032\n",
    "b2 = 0.0\n",
    "m = 0.1\n",
    "m1 = 0.2\n",
    "m2 = 0.3\n",
    "count = 0\n",
    "l= []\n",
    "y1 = 0.0\n",
    "Learning_rate = 0.001\n",
    "epochs = 10\n",
    "for i in range(epochs):\n",
    "    print(\"EPOCH:\",i)\n",
    "    j = 0\n",
    "    while(j<7032):\n",
    "        y1 = b2 +  m*a[j] + m1*b[j] + m2*d[j]\n",
    "        #loss function\n",
    "        ls += (c[j] - y1)**2\n",
    "        dms += a[j]*(c[j] - y1)\n",
    "        dm1s += b[j]*(c[j] - y1)\n",
    "        dm2s += d[j]*(c[j] - y1)\n",
    "        db2 += (c[j] - y1)\n",
    "        print(\"y1:\",j,y1)\n",
    "        print(\"ls:\",j,ls)\n",
    "        print(\"dms:\",j,dms)\n",
    "        print(\"dm1s:\",j,dm1s)\n",
    "        print(\"dm2s:\",j,dm2s)\n",
    "        print(\"db2:\",j,db2)\n",
    "        j+=1\n",
    "    lss = (1/n)*ls\n",
    "    l.append(lss)\n",
    "    count+=1\n",
    "    Dm =  (-2/n)*dms\n",
    "    Dm1 = (-2/n)*dm1s\n",
    "    Dm2 = (-2/n)*dm2s\n",
    "    Db2 = (-2/n)*db2\n",
    "    m = m - Learning_rate*Dm\n",
    "    m1 = m1 - Learning_rate*Dm1\n",
    "    m2 = m2 - Learning_rate*Dm2\n",
    "    b2 = b2 - Learning_rate*Db2\n",
    "    print(\"loss:\",i,lss)\n",
    "    print(\"Dm:\",i,Dm)\n",
    "    print(\"Dm1:\",i,Dm1)\n",
    "    print(\"Dm2:\",i,Dm2)\n",
    "    print(\"Db2:\",i,Db2)\n",
    "    print(\"m:\",i,m)\n",
    "    print(\"m1:\",i,m1)\n",
    "    print(\"m2:\",i,m2)\n",
    "    print(\"b2:\",i,b2)\n",
    "print(\"m:\",m,\"m1:\",m1,\"m2:\",m2,\"b2:\",b2)"
   ]
  },
  {
   "cell_type": "code",
   "execution_count": null,
   "metadata": {},
   "outputs": [],
   "source": [
    "print(count)"
   ]
  },
  {
   "cell_type": "code",
   "execution_count": null,
   "metadata": {},
   "outputs": [],
   "source": [
    "jj=[0,1,2,3,4,5,6,7,8,9]\n",
    "#for i in range(7032):\n",
    "#    jj.append(i)"
   ]
  },
  {
   "cell_type": "code",
   "execution_count": null,
   "metadata": {},
   "outputs": [],
   "source": [
    "colors =('red')\n",
    "plt.scatter(jj,l,s=None,c=colors,alpha = 0.5)\n",
    "plt.title('scatter plot')\n",
    "plt.xlabel('x')\n",
    "plt.ylabel('y')\n",
    "plt.show()"
   ]
  },
  {
   "cell_type": "markdown",
   "metadata": {},
   "source": []
  }
 ],
 "metadata": {
  "kernelspec": {
   "display_name": "Python 3",
   "language": "python",
   "name": "python3"
  },
  "language_info": {
   "codemirror_mode": {
    "name": "ipython",
    "version": 3
   },
   "file_extension": ".py",
   "mimetype": "text/x-python",
   "name": "python",
   "nbconvert_exporter": "python",
   "pygments_lexer": "ipython3",
   "version": "3.7.4"
  }
 },
 "nbformat": 4,
 "nbformat_minor": 2
}
