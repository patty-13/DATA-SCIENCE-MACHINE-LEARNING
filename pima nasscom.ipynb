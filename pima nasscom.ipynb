{
 "cells": [
  {
   "cell_type": "code",
   "execution_count": 1,
   "metadata": {},
   "outputs": [
    {
     "name": "stderr",
     "output_type": "stream",
     "text": [
      "Loading required package: lattice\n",
      "Loading required package: ggplot2\n",
      "Registered S3 methods overwritten by 'ggplot2':\n",
      "  method         from \n",
      "  [.quosures     rlang\n",
      "  c.quosures     rlang\n",
      "  print.quosures rlang\n",
      "\n",
      "Attaching package: 'dplyr'\n",
      "\n",
      "The following objects are masked from 'package:stats':\n",
      "\n",
      "    filter, lag\n",
      "\n",
      "The following objects are masked from 'package:base':\n",
      "\n",
      "    intersect, setdiff, setequal, union\n",
      "\n",
      "Loading required package: gplots\n",
      "\n",
      "Attaching package: 'gplots'\n",
      "\n",
      "The following object is masked from 'package:stats':\n",
      "\n",
      "    lowess\n",
      "\n",
      "\n",
      "Attaching package: 'Metrics'\n",
      "\n",
      "The following objects are masked from 'package:caret':\n",
      "\n",
      "    precision, recall\n",
      "\n",
      "randomForest 4.6-14\n",
      "Type rfNews() to see new features/changes/bug fixes.\n",
      "\n",
      "Attaching package: 'randomForest'\n",
      "\n",
      "The following object is masked from 'package:dplyr':\n",
      "\n",
      "    combine\n",
      "\n",
      "The following object is masked from 'package:ggplot2':\n",
      "\n",
      "    margin\n",
      "\n"
     ]
    }
   ],
   "source": [
    "library(caret)\n",
    "library(mlbench)\n",
    "library(dplyr)\n",
    "library(base)\n",
    "library(caTools)\n",
    "library(e1071)\n",
    "library(ROCR)\n",
    "library(Metrics)\n",
    "library(ggplot2)\n",
    "library(rpart)\n",
    "library(randomForest)\n",
    "library(class)\n"
   ]
  },
  {
   "cell_type": "markdown",
   "metadata": {},
   "source": [
    "# LOADING THE DATASET"
   ]
  },
  {
   "cell_type": "code",
   "execution_count": 2,
   "metadata": {},
   "outputs": [
    {
     "data": {
      "text/html": [
       "<table>\n",
       "<thead><tr><th scope=col>X</th><th scope=col>pregnancies</th><th scope=col>glucose</th><th scope=col>bloodpressure</th><th scope=col>skinthickness</th><th scope=col>insulin</th><th scope=col>bmi</th><th scope=col>diabetespedigreefunction</th><th scope=col>age</th><th scope=col>diabetes</th></tr></thead>\n",
       "<tbody>\n",
       "\t<tr><td>1     </td><td>6     </td><td>148   </td><td>72    </td><td>35    </td><td> 30.5 </td><td>33.6  </td><td>0.6270</td><td>50    </td><td>1     </td></tr>\n",
       "\t<tr><td>2     </td><td>1     </td><td> 85   </td><td>66    </td><td>29    </td><td> 30.5 </td><td>26.6  </td><td>0.3510</td><td>31    </td><td>0     </td></tr>\n",
       "\t<tr><td>3     </td><td>8     </td><td>183   </td><td>64    </td><td>23    </td><td> 30.5 </td><td>23.3  </td><td>0.6720</td><td>32    </td><td>1     </td></tr>\n",
       "\t<tr><td>4     </td><td>1     </td><td> 89   </td><td>66    </td><td>23    </td><td> 94.0 </td><td>28.1  </td><td>0.1670</td><td>21    </td><td>0     </td></tr>\n",
       "\t<tr><td>5     </td><td>0     </td><td>137   </td><td>40    </td><td>35    </td><td>168.0 </td><td>43.1  </td><td>0.3725</td><td>33    </td><td>1     </td></tr>\n",
       "\t<tr><td>6     </td><td>5     </td><td>116   </td><td>74    </td><td>23    </td><td> 30.5 </td><td>25.6  </td><td>0.2010</td><td>30    </td><td>0     </td></tr>\n",
       "</tbody>\n",
       "</table>\n"
      ],
      "text/latex": [
       "\\begin{tabular}{r|llllllllll}\n",
       " X & pregnancies & glucose & bloodpressure & skinthickness & insulin & bmi & diabetespedigreefunction & age & diabetes\\\\\n",
       "\\hline\n",
       "\t 1      & 6      & 148    & 72     & 35     &  30.5  & 33.6   & 0.6270 & 50     & 1     \\\\\n",
       "\t 2      & 1      &  85    & 66     & 29     &  30.5  & 26.6   & 0.3510 & 31     & 0     \\\\\n",
       "\t 3      & 8      & 183    & 64     & 23     &  30.5  & 23.3   & 0.6720 & 32     & 1     \\\\\n",
       "\t 4      & 1      &  89    & 66     & 23     &  94.0  & 28.1   & 0.1670 & 21     & 0     \\\\\n",
       "\t 5      & 0      & 137    & 40     & 35     & 168.0  & 43.1   & 0.3725 & 33     & 1     \\\\\n",
       "\t 6      & 5      & 116    & 74     & 23     &  30.5  & 25.6   & 0.2010 & 30     & 0     \\\\\n",
       "\\end{tabular}\n"
      ],
      "text/markdown": [
       "\n",
       "| X | pregnancies | glucose | bloodpressure | skinthickness | insulin | bmi | diabetespedigreefunction | age | diabetes |\n",
       "|---|---|---|---|---|---|---|---|---|---|\n",
       "| 1      | 6      | 148    | 72     | 35     |  30.5  | 33.6   | 0.6270 | 50     | 1      |\n",
       "| 2      | 1      |  85    | 66     | 29     |  30.5  | 26.6   | 0.3510 | 31     | 0      |\n",
       "| 3      | 8      | 183    | 64     | 23     |  30.5  | 23.3   | 0.6720 | 32     | 1      |\n",
       "| 4      | 1      |  89    | 66     | 23     |  94.0  | 28.1   | 0.1670 | 21     | 0      |\n",
       "| 5      | 0      | 137    | 40     | 35     | 168.0  | 43.1   | 0.3725 | 33     | 1      |\n",
       "| 6      | 5      | 116    | 74     | 23     |  30.5  | 25.6   | 0.2010 | 30     | 0      |\n",
       "\n"
      ],
      "text/plain": [
       "  X pregnancies glucose bloodpressure skinthickness insulin bmi \n",
       "1 1 6           148     72            35             30.5   33.6\n",
       "2 2 1            85     66            29             30.5   26.6\n",
       "3 3 8           183     64            23             30.5   23.3\n",
       "4 4 1            89     66            23             94.0   28.1\n",
       "5 5 0           137     40            35            168.0   43.1\n",
       "6 6 5           116     74            23             30.5   25.6\n",
       "  diabetespedigreefunction age diabetes\n",
       "1 0.6270                   50  1       \n",
       "2 0.3510                   31  0       \n",
       "3 0.6720                   32  1       \n",
       "4 0.1670                   21  0       \n",
       "5 0.3725                   33  1       \n",
       "6 0.2010                   30  0       "
      ]
     },
     "metadata": {},
     "output_type": "display_data"
    }
   ],
   "source": [
    "#pima <- read.csv(\"C:/Users/Praty/OneDrive/Desktop/pima-indians-diabetes.csv\")\n",
    "pima = read.csv(\"C:/Users/Praty/OneDrive/Desktop/filtered_pima.csv\")\n",
    "head(pima)"
   ]
  },
  {
   "cell_type": "code",
   "execution_count": 12,
   "metadata": {},
   "outputs": [
    {
     "data": {
      "text/html": [
       "268"
      ],
      "text/latex": [
       "268"
      ],
      "text/markdown": [
       "268"
      ],
      "text/plain": [
       "[1] 268"
      ]
     },
     "metadata": {},
     "output_type": "display_data"
    }
   ],
   "source": [
    "# FINDING THE OUTLIERS BY BOX PLOT\n",
    "#boxplot(pima$X1~.,data = pima, xlab = 'a', ylab= 'b', main = 'pima data')"
   ]
  },
  {
   "cell_type": "code",
   "execution_count": 7,
   "metadata": {},
   "outputs": [
    {
     "data": {
      "text/plain": [
       "       X          pregnancies        glucose       bloodpressure   \n",
       " Min.   :  1.0   Min.   : 0.000   Min.   : 44.00   Min.   : 24.00  \n",
       " 1st Qu.:192.8   1st Qu.: 1.000   1st Qu.: 99.75   1st Qu.: 64.00  \n",
       " Median :384.5   Median : 3.000   Median :117.00   Median : 72.00  \n",
       " Mean   :384.5   Mean   : 3.783   Mean   :121.66   Mean   : 72.39  \n",
       " 3rd Qu.:576.2   3rd Qu.: 6.000   3rd Qu.:140.25   3rd Qu.: 80.00  \n",
       " Max.   :768.0   Max.   :13.000   Max.   :199.00   Max.   :122.00  \n",
       " skinthickness      insulin            bmi       diabetespedigreefunction\n",
       " Min.   : 7.00   Min.   : 14.00   Min.   :18.2   Min.   :0.0780          \n",
       " 1st Qu.:23.00   1st Qu.: 30.50   1st Qu.:27.5   1st Qu.:0.2437          \n",
       " Median :23.00   Median : 30.50   Median :32.0   Median :0.3718          \n",
       " Mean   :27.24   Mean   : 75.77   Mean   :32.2   Mean   :0.4277          \n",
       " 3rd Qu.:32.00   3rd Qu.:110.00   3rd Qu.:36.3   3rd Qu.:0.5823          \n",
       " Max.   :63.00   Max.   :318.00   Max.   :50.0   Max.   :1.1910          \n",
       "      age           diabetes    \n",
       " Min.   :21.00   Min.   :0.000  \n",
       " 1st Qu.:24.00   1st Qu.:0.000  \n",
       " Median :29.00   Median :0.000  \n",
       " Mean   :32.76   Mean   :0.349  \n",
       " 3rd Qu.:40.00   3rd Qu.:1.000  \n",
       " Max.   :66.00   Max.   :1.000  "
      ]
     },
     "metadata": {},
     "output_type": "display_data"
    }
   ],
   "source": [
    "# Data cleaning and data information\n",
    "summary(pima)"
   ]
  },
  {
   "cell_type": "code",
   "execution_count": 8,
   "metadata": {},
   "outputs": [
    {
     "data": {
      "text/html": [
       "<dl class=dl-horizontal>\n",
       "\t<dt>X</dt>\n",
       "\t\t<dd>'integer'</dd>\n",
       "\t<dt>pregnancies</dt>\n",
       "\t\t<dd>'integer'</dd>\n",
       "\t<dt>glucose</dt>\n",
       "\t\t<dd>'integer'</dd>\n",
       "\t<dt>bloodpressure</dt>\n",
       "\t\t<dd>'integer'</dd>\n",
       "\t<dt>skinthickness</dt>\n",
       "\t\t<dd>'integer'</dd>\n",
       "\t<dt>insulin</dt>\n",
       "\t\t<dd>'numeric'</dd>\n",
       "\t<dt>bmi</dt>\n",
       "\t\t<dd>'numeric'</dd>\n",
       "\t<dt>diabetespedigreefunction</dt>\n",
       "\t\t<dd>'numeric'</dd>\n",
       "\t<dt>age</dt>\n",
       "\t\t<dd>'integer'</dd>\n",
       "\t<dt>diabetes</dt>\n",
       "\t\t<dd>'integer'</dd>\n",
       "</dl>\n"
      ],
      "text/latex": [
       "\\begin{description*}\n",
       "\\item[X] 'integer'\n",
       "\\item[pregnancies] 'integer'\n",
       "\\item[glucose] 'integer'\n",
       "\\item[bloodpressure] 'integer'\n",
       "\\item[skinthickness] 'integer'\n",
       "\\item[insulin] 'numeric'\n",
       "\\item[bmi] 'numeric'\n",
       "\\item[diabetespedigreefunction] 'numeric'\n",
       "\\item[age] 'integer'\n",
       "\\item[diabetes] 'integer'\n",
       "\\end{description*}\n"
      ],
      "text/markdown": [
       "X\n",
       ":   'integer'pregnancies\n",
       ":   'integer'glucose\n",
       ":   'integer'bloodpressure\n",
       ":   'integer'skinthickness\n",
       ":   'integer'insulin\n",
       ":   'numeric'bmi\n",
       ":   'numeric'diabetespedigreefunction\n",
       ":   'numeric'age\n",
       ":   'integer'diabetes\n",
       ":   'integer'\n",
       "\n"
      ],
      "text/plain": [
       "                       X              pregnancies                  glucose \n",
       "               \"integer\"                \"integer\"                \"integer\" \n",
       "           bloodpressure            skinthickness                  insulin \n",
       "               \"integer\"                \"integer\"                \"numeric\" \n",
       "                     bmi diabetespedigreefunction                      age \n",
       "               \"numeric\"                \"numeric\"                \"integer\" \n",
       "                diabetes \n",
       "               \"integer\" "
      ]
     },
     "metadata": {},
     "output_type": "display_data"
    }
   ],
   "source": [
    "# checking the datatypes of variables\n",
    "sapply(pima, class)"
   ]
  },
  {
   "cell_type": "code",
   "execution_count": null,
   "metadata": {},
   "outputs": [],
   "source": [
    "# Finding the missing values in pima dataset\n",
    "head(sum(is.na(pima)))"
   ]
  },
  {
   "cell_type": "code",
   "execution_count": 3,
   "metadata": {},
   "outputs": [],
   "source": [
    "nom1 = preProcess(pima[,c(1:10)], method=c('center','scale'))\n",
    "#nom1 = preProcess(pima[,c(1:9)], method=c('range'))\n",
    "norm1 = predict(nom1, pima[,c(1:10)])\n"
   ]
  },
  {
   "cell_type": "markdown",
   "metadata": {},
   "source": [
    "# APPLYING MACHINE LEARNING MODELS"
   ]
  },
  {
   "cell_type": "code",
   "execution_count": null,
   "metadata": {},
   "outputs": [],
   "source": [
    "#LOGISTIC REGRESSION\n",
    "glmModel = train(factor(diabetes)~., data = train_data,method='glm',family='binomial')\n",
    "predictTest = predict(glmModel, newdata = test_data)\n",
    "confusionMatrix(predictTest, factor(test_data$diabetes), mode = 'everything')\n",
    "\n",
    "#DECISION TREES\n",
    "DT = train(factor(diabetes)~., data = train_data, method = 'rpart')\n",
    "pt1 = predict(DT, newdata = test_data)\n",
    "confusionMatrix(pt1, reference = factor(test_data$diabetes), mode = 'everything')\n",
    "\n",
    "#Support Vector Machine\n",
    "svmfit = svm(factor(diabetes)~ ., data = train_data, kernel = \"linear\", cost = 10, scale = FALSE)\n",
    "pt2 = predict(svmfit, newdata=test_data)\n",
    "confusionMatrix(pt2, reference = factor(test_data$diabetes), mode='everything')\n",
    "\n",
    "# NAIVE BAYES\n",
    "NAIVE_BAYES = naiveBayes(factor(diabetes) ~ ., data = train_data) \n",
    "predictTest2 = predict(NAIVE_BAYES,newdata=test_data)\n",
    "cm = table(test_data$diabetes, predictTest2)\n",
    "confusionMatrix(cm,mode='everything')\n",
    "\n",
    "# RANDOM FOREST\n",
    "forest = randomForest(factor(diabetes)~., data = train_data)\n",
    "pt = predict(forest, newdata= test_data)\n",
    "confusionMatrix(pt, reference = factor(test_data$diabetes), mode = 'everything')\n",
    "\n",
    "#XGBOOST\n",
    "control6 = trainControl(method = 'repeatedcv',number = 10,repeats = 3, \n",
    "                        returnResamp = \"all\",savePredictions = \"all\")\n",
    "XGBoost = train(factor(diabetes)~., data = train_data , method=\"xgbLinear\", \n",
    "                      trControl =control6,verbose = FALSE)\n",
    "predictTest5 = predict(XGBoost, newdata = test_data)\n",
    "confusionMatrix(predictTest5,reference = factor(test_data$diabetes),mode = 'everything')"
   ]
  },
  {
   "cell_type": "code",
   "execution_count": 4,
   "metadata": {},
   "outputs": [],
   "source": [
    "#APPLYING MODELS\n",
    "Train = createDataPartition(norm1$diabetes, p =0.8, list = FALSE)\n",
    "train_data = norm1[Train,]\n",
    "test_data = norm1[-Train,]"
   ]
  },
  {
   "cell_type": "code",
   "execution_count": 5,
   "metadata": {},
   "outputs": [
    {
     "data": {
      "text/html": [
       "<table>\n",
       "<thead><tr><th></th><th scope=col>X</th><th scope=col>pregnancies</th><th scope=col>glucose</th><th scope=col>bloodpressure</th><th scope=col>skinthickness</th><th scope=col>insulin</th><th scope=col>bmi</th><th scope=col>diabetespedigreefunction</th><th scope=col>age</th><th scope=col>diabetes</th></tr></thead>\n",
       "<tbody>\n",
       "\t<tr><th scope=row>1</th><td>-1.728670  </td><td> 0.6779851 </td><td> 0.8654807 </td><td>-0.0319691 </td><td> 0.8763697 </td><td>-0.6788110 </td><td> 0.2185522 </td><td> 0.8130639 </td><td> 1.55938337</td><td> 1.3650064 </td></tr>\n",
       "\t<tr><th scope=row>4</th><td>-1.715148  </td><td>-0.8507657 </td><td>-1.0728676 </td><td>-0.5279745 </td><td>-0.4780866 </td><td> 0.2733089 </td><td>-0.6394074 </td><td>-1.0632436 </td><td>-1.06377271</td><td>-0.7316434 </td></tr>\n",
       "\t<tr><th scope=row>5</th><td>-1.710640  </td><td>-1.1565159 </td><td> 0.5040938 </td><td>-2.6773314 </td><td> 0.8763697 </td><td> 1.3828659 </td><td> 1.7004825 </td><td>-0.2250236 </td><td> 0.02167119</td><td> 1.3650064 </td></tr>\n",
       "\t<tr><th scope=row>6</th><td>-1.706132  </td><td> 0.3722349 </td><td>-0.1858268 </td><td> 0.1333660 </td><td>-0.4780866 </td><td>-0.6788110 </td><td>-1.0293891 </td><td>-0.9245600 </td><td>-0.24968979</td><td>-0.7316434 </td></tr>\n",
       "\t<tr><th scope=row>7</th><td>-1.701625  </td><td>-0.2392654 </td><td>-1.4342546 </td><td>-1.8506557 </td><td> 0.5377556 </td><td> 0.1833448 </td><td>-0.1870287 </td><td>-0.7328503 </td><td>-0.61150442</td><td> 1.3650064 </td></tr>\n",
       "\t<tr><th scope=row>9</th><td>-1.692610  </td><td>-0.5450156 </td><td> 2.4752954 </td><td>-0.1973042 </td><td> 2.0050834 </td><td>-0.6788110 </td><td>-0.2650250 </td><td>-1.0999539 </td><td> 1.83074435</td><td> 1.3650064 </td></tr>\n",
       "</tbody>\n",
       "</table>\n"
      ],
      "text/latex": [
       "\\begin{tabular}{r|llllllllll}\n",
       "  & X & pregnancies & glucose & bloodpressure & skinthickness & insulin & bmi & diabetespedigreefunction & age & diabetes\\\\\n",
       "\\hline\n",
       "\t1 & -1.728670   &  0.6779851  &  0.8654807  & -0.0319691  &  0.8763697  & -0.6788110  &  0.2185522  &  0.8130639  &  1.55938337 &  1.3650064 \\\\\n",
       "\t4 & -1.715148   & -0.8507657  & -1.0728676  & -0.5279745  & -0.4780866  &  0.2733089  & -0.6394074  & -1.0632436  & -1.06377271 & -0.7316434 \\\\\n",
       "\t5 & -1.710640   & -1.1565159  &  0.5040938  & -2.6773314  &  0.8763697  &  1.3828659  &  1.7004825  & -0.2250236  &  0.02167119 &  1.3650064 \\\\\n",
       "\t6 & -1.706132   &  0.3722349  & -0.1858268  &  0.1333660  & -0.4780866  & -0.6788110  & -1.0293891  & -0.9245600  & -0.24968979 & -0.7316434 \\\\\n",
       "\t7 & -1.701625   & -0.2392654  & -1.4342546  & -1.8506557  &  0.5377556  &  0.1833448  & -0.1870287  & -0.7328503  & -0.61150442 &  1.3650064 \\\\\n",
       "\t9 & -1.692610   & -0.5450156  &  2.4752954  & -0.1973042  &  2.0050834  & -0.6788110  & -0.2650250  & -1.0999539  &  1.83074435 &  1.3650064 \\\\\n",
       "\\end{tabular}\n"
      ],
      "text/markdown": [
       "\n",
       "| <!--/--> | X | pregnancies | glucose | bloodpressure | skinthickness | insulin | bmi | diabetespedigreefunction | age | diabetes |\n",
       "|---|---|---|---|---|---|---|---|---|---|---|\n",
       "| 1 | -1.728670   |  0.6779851  |  0.8654807  | -0.0319691  |  0.8763697  | -0.6788110  |  0.2185522  |  0.8130639  |  1.55938337 |  1.3650064  |\n",
       "| 4 | -1.715148   | -0.8507657  | -1.0728676  | -0.5279745  | -0.4780866  |  0.2733089  | -0.6394074  | -1.0632436  | -1.06377271 | -0.7316434  |\n",
       "| 5 | -1.710640   | -1.1565159  |  0.5040938  | -2.6773314  |  0.8763697  |  1.3828659  |  1.7004825  | -0.2250236  |  0.02167119 |  1.3650064  |\n",
       "| 6 | -1.706132   |  0.3722349  | -0.1858268  |  0.1333660  | -0.4780866  | -0.6788110  | -1.0293891  | -0.9245600  | -0.24968979 | -0.7316434  |\n",
       "| 7 | -1.701625   | -0.2392654  | -1.4342546  | -1.8506557  |  0.5377556  |  0.1833448  | -0.1870287  | -0.7328503  | -0.61150442 |  1.3650064  |\n",
       "| 9 | -1.692610   | -0.5450156  |  2.4752954  | -0.1973042  |  2.0050834  | -0.6788110  | -0.2650250  | -1.0999539  |  1.83074435 |  1.3650064  |\n",
       "\n"
      ],
      "text/plain": [
       "  X         pregnancies glucose    bloodpressure skinthickness insulin   \n",
       "1 -1.728670  0.6779851   0.8654807 -0.0319691     0.8763697    -0.6788110\n",
       "4 -1.715148 -0.8507657  -1.0728676 -0.5279745    -0.4780866     0.2733089\n",
       "5 -1.710640 -1.1565159   0.5040938 -2.6773314     0.8763697     1.3828659\n",
       "6 -1.706132  0.3722349  -0.1858268  0.1333660    -0.4780866    -0.6788110\n",
       "7 -1.701625 -0.2392654  -1.4342546 -1.8506557     0.5377556     0.1833448\n",
       "9 -1.692610 -0.5450156   2.4752954 -0.1973042     2.0050834    -0.6788110\n",
       "  bmi        diabetespedigreefunction age         diabetes  \n",
       "1  0.2185522  0.8130639                1.55938337  1.3650064\n",
       "4 -0.6394074 -1.0632436               -1.06377271 -0.7316434\n",
       "5  1.7004825 -0.2250236                0.02167119  1.3650064\n",
       "6 -1.0293891 -0.9245600               -0.24968979 -0.7316434\n",
       "7 -0.1870287 -0.7328503               -0.61150442  1.3650064\n",
       "9 -0.2650250 -1.0999539                1.83074435  1.3650064"
      ]
     },
     "metadata": {},
     "output_type": "display_data"
    }
   ],
   "source": [
    "# train_data\n",
    "head(train_data)"
   ]
  },
  {
   "cell_type": "code",
   "execution_count": 6,
   "metadata": {},
   "outputs": [
    {
     "data": {
      "text/html": [
       "<table>\n",
       "<thead><tr><th></th><th scope=col>X</th><th scope=col>pregnancies</th><th scope=col>glucose</th><th scope=col>bloodpressure</th><th scope=col>skinthickness</th><th scope=col>insulin</th><th scope=col>bmi</th><th scope=col>diabetespedigreefunction</th><th scope=col>age</th><th scope=col>diabetes</th></tr></thead>\n",
       "<tbody>\n",
       "\t<tr><th scope=row>2</th><td>-1.724163  </td><td>-0.8507657 </td><td>-1.2042810 </td><td>-0.5279745 </td><td> 0.1991415 </td><td>-0.678811  </td><td>-0.8733964 </td><td>-0.3127206 </td><td>-0.15923613</td><td>-0.7316434 </td></tr>\n",
       "\t<tr><th scope=row>3</th><td>-1.719655  </td><td> 1.2894854 </td><td> 2.0153484 </td><td>-0.6933097 </td><td>-0.4780866 </td><td>-0.678811  </td><td>-1.3881722 </td><td> 0.9966157 </td><td>-0.06878247</td><td> 1.3650064 </td></tr>\n",
       "\t<tr><th scope=row>8</th><td>-1.697117  </td><td> 1.9009857 </td><td>-0.2186802 </td><td>-0.0319691 </td><td>-0.4780866 </td><td>-0.678811  </td><td> 0.4837397 </td><td>-1.1978482 </td><td>-0.34014344</td><td>-0.7316434 </td></tr>\n",
       "\t<tr><th scope=row>12</th><td>-1.679087  </td><td> 1.9009857 </td><td> 1.5225480 </td><td> 0.1333660 </td><td>-0.4780866 </td><td>-0.678811  </td><td> 0.9049199 </td><td> 0.4459603 </td><td> 0.11212485</td><td> 1.3650064 </td></tr>\n",
       "\t<tr><th scope=row>15</th><td>-1.665564  </td><td> 0.3722349 </td><td> 1.4568412 </td><td>-0.0319691 </td><td>-0.9295721 </td><td> 1.487824  </td><td>-0.9981905 </td><td> 0.6499068 </td><td> 1.64983703</td><td> 1.3650064 </td></tr>\n",
       "\t<tr><th scope=row>27</th><td>-1.611472  </td><td> 0.9837352 </td><td> 0.8326274 </td><td> 0.2987012 </td><td>-0.4780866 </td><td>-0.678811  </td><td> 1.1233097 </td><td>-0.6961399 </td><td> 0.92620777</td><td> 1.3650064 </td></tr>\n",
       "</tbody>\n",
       "</table>\n"
      ],
      "text/latex": [
       "\\begin{tabular}{r|llllllllll}\n",
       "  & X & pregnancies & glucose & bloodpressure & skinthickness & insulin & bmi & diabetespedigreefunction & age & diabetes\\\\\n",
       "\\hline\n",
       "\t2 & -1.724163   & -0.8507657  & -1.2042810  & -0.5279745  &  0.1991415  & -0.678811   & -0.8733964  & -0.3127206  & -0.15923613 & -0.7316434 \\\\\n",
       "\t3 & -1.719655   &  1.2894854  &  2.0153484  & -0.6933097  & -0.4780866  & -0.678811   & -1.3881722  &  0.9966157  & -0.06878247 &  1.3650064 \\\\\n",
       "\t8 & -1.697117   &  1.9009857  & -0.2186802  & -0.0319691  & -0.4780866  & -0.678811   &  0.4837397  & -1.1978482  & -0.34014344 & -0.7316434 \\\\\n",
       "\t12 & -1.679087   &  1.9009857  &  1.5225480  &  0.1333660  & -0.4780866  & -0.678811   &  0.9049199  &  0.4459603  &  0.11212485 &  1.3650064 \\\\\n",
       "\t15 & -1.665564   &  0.3722349  &  1.4568412  & -0.0319691  & -0.9295721  &  1.487824   & -0.9981905  &  0.6499068  &  1.64983703 &  1.3650064 \\\\\n",
       "\t27 & -1.611472   &  0.9837352  &  0.8326274  &  0.2987012  & -0.4780866  & -0.678811   &  1.1233097  & -0.6961399  &  0.92620777 &  1.3650064 \\\\\n",
       "\\end{tabular}\n"
      ],
      "text/markdown": [
       "\n",
       "| <!--/--> | X | pregnancies | glucose | bloodpressure | skinthickness | insulin | bmi | diabetespedigreefunction | age | diabetes |\n",
       "|---|---|---|---|---|---|---|---|---|---|---|\n",
       "| 2 | -1.724163   | -0.8507657  | -1.2042810  | -0.5279745  |  0.1991415  | -0.678811   | -0.8733964  | -0.3127206  | -0.15923613 | -0.7316434  |\n",
       "| 3 | -1.719655   |  1.2894854  |  2.0153484  | -0.6933097  | -0.4780866  | -0.678811   | -1.3881722  |  0.9966157  | -0.06878247 |  1.3650064  |\n",
       "| 8 | -1.697117   |  1.9009857  | -0.2186802  | -0.0319691  | -0.4780866  | -0.678811   |  0.4837397  | -1.1978482  | -0.34014344 | -0.7316434  |\n",
       "| 12 | -1.679087   |  1.9009857  |  1.5225480  |  0.1333660  | -0.4780866  | -0.678811   |  0.9049199  |  0.4459603  |  0.11212485 |  1.3650064  |\n",
       "| 15 | -1.665564   |  0.3722349  |  1.4568412  | -0.0319691  | -0.9295721  |  1.487824   | -0.9981905  |  0.6499068  |  1.64983703 |  1.3650064  |\n",
       "| 27 | -1.611472   |  0.9837352  |  0.8326274  |  0.2987012  | -0.4780866  | -0.678811   |  1.1233097  | -0.6961399  |  0.92620777 |  1.3650064  |\n",
       "\n"
      ],
      "text/plain": [
       "   X         pregnancies glucose    bloodpressure skinthickness insulin  \n",
       "2  -1.724163 -0.8507657  -1.2042810 -0.5279745     0.1991415    -0.678811\n",
       "3  -1.719655  1.2894854   2.0153484 -0.6933097    -0.4780866    -0.678811\n",
       "8  -1.697117  1.9009857  -0.2186802 -0.0319691    -0.4780866    -0.678811\n",
       "12 -1.679087  1.9009857   1.5225480  0.1333660    -0.4780866    -0.678811\n",
       "15 -1.665564  0.3722349   1.4568412 -0.0319691    -0.9295721     1.487824\n",
       "27 -1.611472  0.9837352   0.8326274  0.2987012    -0.4780866    -0.678811\n",
       "   bmi        diabetespedigreefunction age         diabetes  \n",
       "2  -0.8733964 -0.3127206               -0.15923613 -0.7316434\n",
       "3  -1.3881722  0.9966157               -0.06878247  1.3650064\n",
       "8   0.4837397 -1.1978482               -0.34014344 -0.7316434\n",
       "12  0.9049199  0.4459603                0.11212485  1.3650064\n",
       "15 -0.9981905  0.6499068                1.64983703  1.3650064\n",
       "27  1.1233097 -0.6961399                0.92620777  1.3650064"
      ]
     },
     "metadata": {},
     "output_type": "display_data"
    }
   ],
   "source": [
    "# test_data\n",
    "head(test_data)"
   ]
  },
  {
   "cell_type": "markdown",
   "metadata": {},
   "source": [
    "# LOGISTIC REGRESSION"
   ]
  },
  {
   "cell_type": "code",
   "execution_count": 11,
   "metadata": {},
   "outputs": [
    {
     "data": {
      "text/plain": [
       "Confusion Matrix and Statistics\n",
       "\n",
       "                    Reference\n",
       "Prediction           -0.731643412690454 1.3650063669598\n",
       "  -0.731643412690454                 85              18\n",
       "  1.3650063669598                    14              36\n",
       "                                            \n",
       "               Accuracy : 0.7908            \n",
       "                 95% CI : (0.7178, 0.8523)  \n",
       "    No Information Rate : 0.6471            \n",
       "    P-Value [Acc > NIR] : 7.885e-05         \n",
       "                                            \n",
       "                  Kappa : 0.5342            \n",
       "                                            \n",
       " Mcnemar's Test P-Value : 0.5959            \n",
       "                                            \n",
       "            Sensitivity : 0.8586            \n",
       "            Specificity : 0.6667            \n",
       "         Pos Pred Value : 0.8252            \n",
       "         Neg Pred Value : 0.7200            \n",
       "              Precision : 0.8252            \n",
       "                 Recall : 0.8586            \n",
       "                     F1 : 0.8416            \n",
       "             Prevalence : 0.6471            \n",
       "         Detection Rate : 0.5556            \n",
       "   Detection Prevalence : 0.6732            \n",
       "      Balanced Accuracy : 0.7626            \n",
       "                                            \n",
       "       'Positive' Class : -0.731643412690454\n",
       "                                            "
      ]
     },
     "metadata": {},
     "output_type": "display_data"
    }
   ],
   "source": [
    "glmModel = train(factor(diabetes)~., data = train_data,method='glm',family='binomial')\n",
    "predictTest = predict(glmModel, newdata = test_data)\n",
    "confusionMatrix(predictTest, factor(test_data$diabetes), mode = 'everything')"
   ]
  },
  {
   "cell_type": "markdown",
   "metadata": {},
   "source": [
    "# DECISION TREES"
   ]
  },
  {
   "cell_type": "code",
   "execution_count": 12,
   "metadata": {},
   "outputs": [
    {
     "data": {
      "text/plain": [
       "Confusion Matrix and Statistics\n",
       "\n",
       "                    Reference\n",
       "Prediction           -0.731643412690454 1.3650063669598\n",
       "  -0.731643412690454                 83              23\n",
       "  1.3650063669598                    16              31\n",
       "                                            \n",
       "               Accuracy : 0.7451            \n",
       "                 95% CI : (0.6684, 0.812)   \n",
       "    No Information Rate : 0.6471            \n",
       "    P-Value [Acc > NIR] : 0.006123          \n",
       "                                            \n",
       "                  Kappa : 0.425             \n",
       "                                            \n",
       " Mcnemar's Test P-Value : 0.336668          \n",
       "                                            \n",
       "            Sensitivity : 0.8384            \n",
       "            Specificity : 0.5741            \n",
       "         Pos Pred Value : 0.7830            \n",
       "         Neg Pred Value : 0.6596            \n",
       "              Precision : 0.7830            \n",
       "                 Recall : 0.8384            \n",
       "                     F1 : 0.8098            \n",
       "             Prevalence : 0.6471            \n",
       "         Detection Rate : 0.5425            \n",
       "   Detection Prevalence : 0.6928            \n",
       "      Balanced Accuracy : 0.7062            \n",
       "                                            \n",
       "       'Positive' Class : -0.731643412690454\n",
       "                                            "
      ]
     },
     "metadata": {},
     "output_type": "display_data"
    }
   ],
   "source": [
    "DT = train(factor(diabetes)~., data = train_data, method = 'rpart')\n",
    "pt1 = predict(DT, newdata = test_data)\n",
    "confusionMatrix(pt1, reference = factor(test_data$diabetes), mode = 'everything')"
   ]
  },
  {
   "cell_type": "markdown",
   "metadata": {},
   "source": [
    "# NAIVE BAYES CLASSIFIER"
   ]
  },
  {
   "cell_type": "code",
   "execution_count": 16,
   "metadata": {},
   "outputs": [
    {
     "data": {
      "text/plain": [
       "Confusion Matrix and Statistics\n",
       "\n",
       "                    predictTest2\n",
       "                     -0.731643412690454 1.3650063669598\n",
       "  -0.731643412690454                 77              22\n",
       "  1.3650063669598                    13              41\n",
       "                                            \n",
       "               Accuracy : 0.7712            \n",
       "                 95% CI : (0.6965, 0.8352)  \n",
       "    No Information Rate : 0.5882            \n",
       "    P-Value [Acc > NIR] : 1.467e-06         \n",
       "                                            \n",
       "                  Kappa : 0.5174            \n",
       "                                            \n",
       " Mcnemar's Test P-Value : 0.1763            \n",
       "                                            \n",
       "            Sensitivity : 0.8556            \n",
       "            Specificity : 0.6508            \n",
       "         Pos Pred Value : 0.7778            \n",
       "         Neg Pred Value : 0.7593            \n",
       "              Precision : 0.7778            \n",
       "                 Recall : 0.8556            \n",
       "                     F1 : 0.8148            \n",
       "             Prevalence : 0.5882            \n",
       "         Detection Rate : 0.5033            \n",
       "   Detection Prevalence : 0.6471            \n",
       "      Balanced Accuracy : 0.7532            \n",
       "                                            \n",
       "       'Positive' Class : -0.731643412690454\n",
       "                                            "
      ]
     },
     "metadata": {},
     "output_type": "display_data"
    }
   ],
   "source": [
    "NAIVE_BAYES = naiveBayes(factor(diabetes) ~ ., data = train_data) \n",
    "predictTest2 = predict(NAIVE_BAYES,newdata=test_data)\n",
    "cm = table(test_data$diabetes, predictTest2)\n",
    "confusionMatrix(cm,mode='everything')"
   ]
  },
  {
   "cell_type": "markdown",
   "metadata": {},
   "source": [
    "# SUPPORT VECTOR MACHINE"
   ]
  },
  {
   "cell_type": "code",
   "execution_count": 18,
   "metadata": {},
   "outputs": [
    {
     "data": {
      "text/plain": [
       "Confusion Matrix and Statistics\n",
       "\n",
       "                    Reference\n",
       "Prediction           -0.731643412690454 1.3650063669598\n",
       "  -0.731643412690454                 85              20\n",
       "  1.3650063669598                    14              34\n",
       "                                            \n",
       "               Accuracy : 0.7778            \n",
       "                 95% CI : (0.7036, 0.8409)  \n",
       "    No Information Rate : 0.6471            \n",
       "    P-Value [Acc > NIR] : 0.0003254         \n",
       "                                            \n",
       "                  Kappa : 0.5009            \n",
       "                                            \n",
       " Mcnemar's Test P-Value : 0.3911725         \n",
       "                                            \n",
       "            Sensitivity : 0.8586            \n",
       "            Specificity : 0.6296            \n",
       "         Pos Pred Value : 0.8095            \n",
       "         Neg Pred Value : 0.7083            \n",
       "              Precision : 0.8095            \n",
       "                 Recall : 0.8586            \n",
       "                     F1 : 0.8333            \n",
       "             Prevalence : 0.6471            \n",
       "         Detection Rate : 0.5556            \n",
       "   Detection Prevalence : 0.6863            \n",
       "      Balanced Accuracy : 0.7441            \n",
       "                                            \n",
       "       'Positive' Class : -0.731643412690454\n",
       "                                            "
      ]
     },
     "metadata": {},
     "output_type": "display_data"
    }
   ],
   "source": [
    "svmfit = svm(factor(diabetes)~ ., data = train_data, kernel = \"linear\", cost = 10, scale = FALSE)\n",
    "pt2 = predict(svmfit, newdata=test_data)\n",
    "confusionMatrix(pt2, reference = factor(test_data$diabetes), mode='everything')"
   ]
  },
  {
   "cell_type": "markdown",
   "metadata": {},
   "source": [
    "# RANDOM FOREST"
   ]
  },
  {
   "cell_type": "code",
   "execution_count": 7,
   "metadata": {},
   "outputs": [
    {
     "data": {
      "text/plain": [
       "Confusion Matrix and Statistics\n",
       "\n",
       "                    Reference\n",
       "Prediction           -0.731643412690454 1.3650063669598\n",
       "  -0.731643412690454                 74              22\n",
       "  1.3650063669598                    13              44\n",
       "                                            \n",
       "               Accuracy : 0.7712            \n",
       "                 95% CI : (0.6965, 0.8352)  \n",
       "    No Information Rate : 0.5686            \n",
       "    P-Value [Acc > NIR] : 1.301e-07         \n",
       "                                            \n",
       "                  Kappa : 0.5259            \n",
       "                                            \n",
       " Mcnemar's Test P-Value : 0.1763            \n",
       "                                            \n",
       "            Sensitivity : 0.8506            \n",
       "            Specificity : 0.6667            \n",
       "         Pos Pred Value : 0.7708            \n",
       "         Neg Pred Value : 0.7719            \n",
       "              Precision : 0.7708            \n",
       "                 Recall : 0.8506            \n",
       "                     F1 : 0.8087            \n",
       "             Prevalence : 0.5686            \n",
       "         Detection Rate : 0.4837            \n",
       "   Detection Prevalence : 0.6275            \n",
       "      Balanced Accuracy : 0.7586            \n",
       "                                            \n",
       "       'Positive' Class : -0.731643412690454\n",
       "                                            "
      ]
     },
     "metadata": {},
     "output_type": "display_data"
    }
   ],
   "source": [
    "forest = randomForest(factor(diabetes)~., data = train_data)\n",
    "pt = predict(forest, newdata= test_data)\n",
    "confusionMatrix(pt, reference = factor(test_data$diabetes), mode = 'everything')"
   ]
  },
  {
   "cell_type": "markdown",
   "metadata": {},
   "source": [
    "# XGBOOST"
   ]
  },
  {
   "cell_type": "code",
   "execution_count": 23,
   "metadata": {},
   "outputs": [
    {
     "data": {
      "text/plain": [
       "Confusion Matrix and Statistics\n",
       "\n",
       "                    Reference\n",
       "Prediction           -0.731643412690454 1.3650063669598\n",
       "  -0.731643412690454                 74              14\n",
       "  1.3650063669598                    25              40\n",
       "                                            \n",
       "               Accuracy : 0.7451            \n",
       "                 95% CI : (0.6684, 0.812)   \n",
       "    No Information Rate : 0.6471            \n",
       "    P-Value [Acc > NIR] : 0.006123          \n",
       "                                            \n",
       "                  Kappa : 0.4666            \n",
       "                                            \n",
       " Mcnemar's Test P-Value : 0.109315          \n",
       "                                            \n",
       "            Sensitivity : 0.7475            \n",
       "            Specificity : 0.7407            \n",
       "         Pos Pred Value : 0.8409            \n",
       "         Neg Pred Value : 0.6154            \n",
       "              Precision : 0.8409            \n",
       "                 Recall : 0.7475            \n",
       "                     F1 : 0.7914            \n",
       "             Prevalence : 0.6471            \n",
       "         Detection Rate : 0.4837            \n",
       "   Detection Prevalence : 0.5752            \n",
       "      Balanced Accuracy : 0.7441            \n",
       "                                            \n",
       "       'Positive' Class : -0.731643412690454\n",
       "                                            "
      ]
     },
     "metadata": {},
     "output_type": "display_data"
    }
   ],
   "source": [
    "control6 = trainControl(method = 'repeatedcv',number = 10,repeats = 3, returnResamp = \"all\",savePredictions = \"all\")\n",
    "\n",
    "XGBoost = train(factor(diabetes)~., data = train_data , method=\"xgbLinear\", \n",
    "                      trControl =control6,verbose = FALSE)\n",
    "predictTest5 = predict(XGBoost, newdata = test_data)\n",
    "confusionMatrix(predictTest5,reference = factor(test_data$diabetes),mode = 'everything')"
   ]
  },
  {
   "cell_type": "markdown",
   "metadata": {},
   "source": [
    "# GRAPHS"
   ]
  },
  {
   "cell_type": "markdown",
   "metadata": {},
   "source": [
    "# Accuracy"
   ]
  },
  {
   "cell_type": "code",
   "execution_count": 30,
   "metadata": {},
   "outputs": [
    {
     "data": {
      "image/png": "[encoded data removed]",
      "text/plain": [
       "plot without title"
      ]
     },
     "metadata": {},
     "output_type": "display_data"
    }
   ],
   "source": [
    "library(ggplot2)\n",
    "xval<-c(\"LR\",\"DT\",\"NB\",\"SVM\",\"RF\",\"XGB\")\n",
    "yval<-c(77.78,77.12,75.16,75.82,78.43,74.51)\n",
    "data_4<-data.frame(xval,yval)\n",
    "data_4$xval<-as.factor(data_4$xval)\n",
    "data_4$yval<-as.factor(data_4$yval)\n",
    "#tiff(\"D:/recall_3.jpg\", width = 4, height = 4, units = 'in', res = 300)\n",
    "ggplot(data_4, aes(x=xval, y=yval, fill=xval)) + \n",
    "  geom_bar(stat=\"identity\") +\n",
    "  labs(x=\"Models\",y=\"Accuracy\",title=\"Accuracy of models on Pima Indian Diabetes\")+\n",
    "  theme(text = element_text(size=15),axis.text.x = element_text(angle = 0, vjust = 0.6, hjust=0.6,size=15),axis.text.y = element_text(angle = 0, vjust = 0, hjust=0.5,size=15))"
   ]
  },
  {
   "cell_type": "markdown",
   "metadata": {},
   "source": [
    "# PRECISION"
   ]
  },
  {
   "cell_type": "code",
   "execution_count": 31,
   "metadata": {},
   "outputs": [
    {
     "data": {
      "image/png": "[encoded data removed]",
      "text/plain": [
       "plot without title"
      ]
     },
     "metadata": {},
     "output_type": "display_data"
    }
   ],
   "source": [
    "xval<-c(\"LR\",\"DT\",\"NB\",\"SVM\",\"RF\",\"XGB\")\n",
    "yval<-c(80.37,\n",
    "79.63,\n",
    "82.83,\n",
    "76.72,\n",
    "83,\n",
    "79.41)\n",
    "data_4<-data.frame(xval,yval)\n",
    "data_4$xval<-as.factor(data_4$xval)\n",
    "data_4$yval<-as.factor(data_4$yval)\n",
    "#tiff(\"D:/recall_3.jpg\", width = 4, height = 4, units = 'in', res = 300)\n",
    "ggplot(data_4, aes(x=xval, y=yval, fill=xval)) + \n",
    "  geom_bar(stat=\"identity\") +\n",
    "  labs(x=\"Models\",y=\"Precision\",title=\"Precision of models on Pima Indian Diabetes\")+\n",
    "  theme(text = element_text(size=15),axis.text.x = element_text(angle = 0, vjust = 0.6, hjust=0.6,size=15),axis.text.y = element_text(angle = 0, vjust = 0, hjust=0.5,size=15))"
   ]
  },
  {
   "cell_type": "markdown",
   "metadata": {},
   "source": [
    "# RECALL"
   ]
  },
  {
   "cell_type": "code",
   "execution_count": 32,
   "metadata": {},
   "outputs": [
    {
     "data": {
      "image/png": "[encoded data removed]",
      "text/plain": [
       "plot without title"
      ]
     },
     "metadata": {},
     "output_type": "display_data"
    }
   ],
   "source": [
    "xval<-c(\"LR\",\"DT\",\"NB\",\"SVM\",\"RF\",\"XGB\")\n",
    "yval<-c(86.87,\n",
    "86.87,\n",
    "79.61,\n",
    "89.9,\n",
    "83.84,\n",
    "81.82)\n",
    "data_4<-data.frame(xval,yval)\n",
    "data_4$xval<-as.factor(data_4$xval)\n",
    "data_4$yval<-as.factor(data_4$yval)\n",
    "#tiff(\"D:/recall_3.jpg\", width = 4, height = 4, units = 'in', res = 300)\n",
    "ggplot(data_4, aes(x=xval, y=yval, fill=xval)) + \n",
    "  geom_bar(stat=\"identity\") +\n",
    "  labs(x=\"Models\",y=\"Recall\",title=\"Recall of models on Pima Indian Diabetes\")+\n",
    "  theme(text = element_text(size=15),axis.text.x = element_text(angle = 0, vjust = 0.6, hjust=0.6,size=15),axis.text.y = element_text(angle = 0, vjust = 0, hjust=0.5,size=15))"
   ]
  },
  {
   "cell_type": "markdown",
   "metadata": {},
   "source": [
    "# F1-SCORE"
   ]
  },
  {
   "cell_type": "code",
   "execution_count": 33,
   "metadata": {},
   "outputs": [
    {
     "data": {
      "image/png": "[encoded data removed]",
      "text/plain": [
       "plot without title"
      ]
     },
     "metadata": {},
     "output_type": "display_data"
    }
   ],
   "source": [
    "xval<-c(\"LR\",\"DT\",\"NB\",\"SVM\",\"RF\",\"XGB\")\n",
    "yval<-c(83.5,\n",
    "83.09,\n",
    "81.19,\n",
    "82.79,\n",
    "83.42,\n",
    "80.6)\n",
    "data_4<-data.frame(xval,yval)\n",
    "data_4$xval<-as.factor(data_4$xval)\n",
    "data_4$yval<-as.factor(data_4$yval)\n",
    "#tiff(\"D:/recall_3.jpg\", width = 4, height = 4, units = 'in', res = 300)\n",
    "ggplot(data_4, aes(x=xval, y=yval, fill=xval)) + \n",
    "  geom_bar(stat=\"identity\") +\n",
    "  labs(x=\"Models\",y=\"F1 Score\",title=\"F1 score of models on Pima Indian Diabetes\")+\n",
    "  theme(text = element_text(size=15),axis.text.x = element_text(angle = 0, vjust = 0.6, hjust=0.6,size=15),axis.text.y = element_text(angle = 0, vjust = 0, hjust=0.5,size=15))"
   ]
  },
  {
   "cell_type": "markdown",
   "metadata": {},
   "source": [
    "# ACCURACY WITH FILTERING AND NORMALIZATION"
   ]
  },
  {
   "cell_type": "code",
   "execution_count": 34,
   "metadata": {},
   "outputs": [
    {
     "data": {
      "image/png": "[encoded data removed]",
      "text/plain": [
       "plot without title"
      ]
     },
     "metadata": {},
     "output_type": "display_data"
    }
   ],
   "source": [
    "library(ggplot2)\n",
    "xval<-c(\"LR\",\"DT\",\"NB\",\"SVM\",\"RF\",\"XGB\")\n",
    "yval<-c(79.08,\n",
    "74.51,\n",
    "77.12,\n",
    "77.78,\n",
    "80.39,\n",
    "74.51)\n",
    "data_4<-data.frame(xval,yval)\n",
    "data_4$xval<-as.factor(data_4$xval)\n",
    "data_4$yval<-as.factor(data_4$yval)\n",
    "#tiff(\"D:/recall_3.jpg\", width = 4, height = 4, units = 'in', res = 300)\n",
    "ggplot(data_4, aes(x=xval, y=yval, fill=xval)) + \n",
    "  geom_bar(stat=\"identity\") +\n",
    "  labs(x=\"Models\",y=\"Accuracy\",title=\"Accuracy of models on Pima Indian Diabetes\")+\n",
    "  theme(text = element_text(size=15),axis.text.x = element_text(angle = 0, vjust = 0.6, hjust=0.6,size=15),axis.text.y = element_text(angle = 0, vjust = 0, hjust=0.5,size=15))"
   ]
  },
  {
   "cell_type": "markdown",
   "metadata": {},
   "source": [
    "# PRECISION WITH NORMALIZATION AND FILTERING"
   ]
  },
  {
   "cell_type": "code",
   "execution_count": 35,
   "metadata": {},
   "outputs": [
    {
     "data": {
      "image/png": "[encoded data removed]",
      "text/plain": [
       "plot without title"
      ]
     },
     "metadata": {},
     "output_type": "display_data"
    }
   ],
   "source": [
    "xval<-c(\"LR\",\"DT\",\"NB\",\"SVM\",\"RF\",\"XGB\")\n",
    "yval<-c(82.52,\n",
    "78.3,\n",
    "77.78,\n",
    "80.9,\n",
    "84.85,\n",
    "84.09)\n",
    "data_4<-data.frame(xval,yval)\n",
    "data_4$xval<-as.factor(data_4$xval)\n",
    "data_4$yval<-as.factor(data_4$yval)\n",
    "#tiff(\"D:/recall_3.jpg\", width = 4, height = 4, units = 'in', res = 300)\n",
    "ggplot(data_4, aes(x=xval, y=yval, fill=xval)) + \n",
    "  geom_bar(stat=\"identity\") +\n",
    "  labs(x=\"Models\",y=\"Precision\",title=\"Precision of models on Pima Indian Diabetes\")+\n",
    "  theme(text = element_text(size=15),axis.text.x = element_text(angle = 0, vjust = 0.6, hjust=0.6,size=15),axis.text.y = element_text(angle = 0, vjust = 0, hjust=0.5,size=15))"
   ]
  },
  {
   "cell_type": "markdown",
   "metadata": {},
   "source": [
    "# RECALL WITH FILTERING AND NORMALIZATION"
   ]
  },
  {
   "cell_type": "code",
   "execution_count": 36,
   "metadata": {},
   "outputs": [
    {
     "data": {
      "image/png": "[encoded data removed]",
      "text/plain": [
       "plot without title"
      ]
     },
     "metadata": {},
     "output_type": "display_data"
    }
   ],
   "source": [
    "xval<-c(\"LR\",\"DT\",\"NB\",\"SVM\",\"RF\",\"XGB\")\n",
    "yval<-c(85.86,\n",
    "83.84,\n",
    "85.56,\n",
    "85.86,\n",
    "84.85,\n",
    "74.75)\n",
    "data_4<-data.frame(xval,yval)\n",
    "data_4$xval<-as.factor(data_4$xval)\n",
    "data_4$yval<-as.factor(data_4$yval)\n",
    "#tiff(\"D:/recall_3.jpg\", width = 4, height = 4, units = 'in', res = 300)\n",
    "ggplot(data_4, aes(x=xval, y=yval, fill=xval)) + \n",
    "  geom_bar(stat=\"identity\") +\n",
    "  labs(x=\"Models\",y=\"Recall\",title=\"Recall of models on Pima Indian Diabetes\")+\n",
    "  theme(text = element_text(size=15),axis.text.x = element_text(angle = 0, vjust = 0.6, hjust=0.6,size=15),axis.text.y = element_text(angle = 0, vjust = 0, hjust=0.5,size=15))"
   ]
  },
  {
   "cell_type": "markdown",
   "metadata": {},
   "source": [
    "# F1-SCORE WITH NORMALIZATION AND FILTERING"
   ]
  },
  {
   "cell_type": "code",
   "execution_count": 37,
   "metadata": {},
   "outputs": [
    {
     "data": {
      "image/png": "[encoded data removed]",
      "text/plain": [
       "plot without title"
      ]
     },
     "metadata": {},
     "output_type": "display_data"
    }
   ],
   "source": [
    "xval<-c(\"LR\",\"DT\",\"NB\",\"SVM\",\"RF\",\"XGB\")\n",
    "yval<-c(84.16,\n",
    "80.9,\n",
    "81.48,\n",
    "83.33,\n",
    "84.85,\n",
    "79.14)\n",
    "data_4<-data.frame(xval,yval)\n",
    "data_4$xval<-as.factor(data_4$xval)\n",
    "data_4$yval<-as.factor(data_4$yval)\n",
    "#tiff(\"D:/recall_3.jpg\", width = 4, height = 4, units = 'in', res = 300)\n",
    "ggplot(data_4, aes(x=xval, y=yval, fill=xval)) + \n",
    "  geom_bar(stat=\"identity\") +\n",
    "  labs(x=\"Models\",y=\"F1 Score\",title=\"F1 score of models on Pima Indian Diabetes\")+\n",
    "  theme(text = element_text(size=15),axis.text.x = element_text(angle = 0, vjust = 0.6, hjust=0.6,size=15),axis.text.y = element_text(angle = 0, vjust = 0, hjust=0.5,size=15))"
   ]
  },
  {
   "cell_type": "code",
   "execution_count": 39,
   "metadata": {},
   "outputs": [
    {
     "name": "stderr",
     "output_type": "stream",
     "text": [
      "Warning message:\n",
      "\"package 'corrplot' is in use and will not be installed\""
     ]
    }
   ],
   "source": [
    "install.packages(\"corrplot\")\n",
    "library(corrplot)"
   ]
  },
  {
   "cell_type": "code",
   "execution_count": 40,
   "metadata": {},
   "outputs": [],
   "source": [
    "res =  cor(pima)"
   ]
  },
  {
   "cell_type": "code",
   "execution_count": 43,
   "metadata": {},
   "outputs": [
    {
     "data": {
      "image/png": "[encoded data removed]",
      "text/plain": [
       "Plot with title \"\""
      ]
     },
     "metadata": {},
     "output_type": "display_data"
    }
   ],
   "source": [
    "corrplot(res)"
   ]
  },
  {
   "cell_type": "code",
   "execution_count": 10,
   "metadata": {},
   "outputs": [
    {
     "ename": "ERROR",
     "evalue": "Error in library(keras): there is no package called 'keras'\n",
     "output_type": "error",
     "traceback": [
      "Error in library(keras): there is no package called 'keras'\nTraceback:\n",
      "1. library(keras)"
     ]
    }
   ],
   "source": [
    "library(caret)\n",
    "library(mlbench)\n",
    "library(dplyr)\n",
    "library(base)\n",
    "library(caTools)\n",
    "library(e1071)\n",
    "library(ROCR)\n",
    "library(Metrics)\n",
    "library(ggplot2)\n",
    "library(rpart)\n",
    "library(randomForest)\n",
    "library(class)\n",
    "library(keras)\n",
    "BiocManager::install(\"EBImage\")\n",
    "library(EBImage)\n",
    "library(tensorflow)\n",
    "install_tensorflow()\n",
    "reticulate::py_install(\"pillow\", env='r-reticulate')\n",
    "\n",
    "\n",
    "Testing = 'C:/Users/Praty/Downloads/ar/Testing Dataset'\n",
    "\n",
    "list.dirs(path='C:/Users/Praty/Downloads/archive (1).zip', full.names = TRUE\n",
    "          , recursive =  TRUE)\n",
    "\n",
    "#CREATING OUR OWN DIRECTORIES\n",
    "base_dir <- \"C:/Users/Praty/Downloads/ar/pima2\"\n",
    "dir.create(base_dir)\n",
    "train_dir <- file.path(base_dir, \"training\")\n",
    "dir.create(train_dir)\n",
    "test_dir <- file.path(base_dir, \"testing\")\n",
    "dir.create(test_dir)\n",
    "train_diab_dir <- file.path(train_dir, \"diab\")\n",
    "dir.create(train_diab_dir)\n",
    "train_norm_dir <- file.path(train_dir, \"norm\")\n",
    "dir.create(train_norm_dir)\n",
    "test_diab_dir <- file.path(test_dir, \"diab\")\n",
    "dir.create(test_diab_dir)\n",
    "test_norm_dir <- file.path(test_dir, \"norm\")\n",
    "dir.create(test_norm_dir)\n",
    "\n",
    "Diabitic = 'C:/Users/Praty/Downloads/ar/diabetic retina/diabetic retina'\n",
    "Normal   =  'C:/Users/Praty/Downloads/ar/normal retina/normal retina'\n",
    "\n",
    "\n",
    "split_data <- function(source_dir, training_dest, testing_dest, split_size)\n",
    "  {\n",
    "  \n",
    "  # obtaining a character vector containing the image paths\n",
    "  files <- list.files(path = source_dir, full.names = T)\n",
    "  size <- file.size(files)\n",
    "  \n",
    "  # removing any corrupt images based on the image size\n",
    "  shuffled_set <- cbind (files, size) %>%\n",
    "    subset(size > 0, select = c(files)) %>%\n",
    "    as.character() %>% \n",
    "    # randomizing our data a little\n",
    "    sample(replace = F)\n",
    "  \n",
    "  # splitting our data such that _% goes to training and _% goes to testing\n",
    "  training_length <- length(shuffled_set) * split_size\n",
    "  testing_length <- length(shuffled_set) * (1 - split_size)\n",
    "  \n",
    "  training_set <- shuffled_set[1:training_length]\n",
    "  testing_set <- shuffled_set[(training_length+1):length(shuffled_set)]\n",
    "  \n",
    "  # copying the training and testing sets into their appropriate destination folders\n",
    "  # wrapping the function in: invisible {base} to prevent printing of 11,250 TRUE/FALSE :)\n",
    "  \n",
    "  invisible (file.copy(from = training_set, to = training_dest))\n",
    "  invisible (file.copy(from = testing_set, to = testing_dest))\n",
    "  \n",
    "}\n",
    "  split_data(source_dir = Diabitic,\n",
    "             training_dest = train_diab_dir,\n",
    "             testing_dest = test_diab_dir,\n",
    "             split_size = 0.9)\n",
    "  \n",
    "  \n",
    "  # splitting dog images\n",
    "  split_data(source_dir = Normal,\n",
    "             training_dest = train_norm_dir,\n",
    "             testing_dest = test_norm_dir,\n",
    "             split_size = 0.9)\n",
    "  \n",
    "  cat(\"Total training cat images:\", length(list.files(train_diab_dir)), '\\n')\n",
    "  \n",
    "  \n",
    "  model <- keras_model_sequential() %>%\n",
    "    # adding the first convolution layer with 16 3by3 filters\n",
    "    # we add an additional dimension in the input shape since convolutions operate over 3D tensors\n",
    "    # the input shape tells the network that the first layer should expect\n",
    "    # images of 150 by 150 pixels with a color depth of 3 ie RGB images\n",
    "    layer_conv_2d(input_shape = c(150, 150, 3), filters = 16, kernel_size = c(3, 3), activation = 'relu') %>%\n",
    "    # adding a max pooling layer which halves the dimensions\n",
    "    layer_max_pooling_2d(pool_size = c(2, 2)) %>%\n",
    "    # adding a second convolution layer with 32 filters\n",
    "    layer_conv_2d(filters = 32, kernel_size = c(3, 3), activation = 'relu') %>%\n",
    "    # adding a pooling layer\n",
    "    layer_max_pooling_2d(pool_size = c(2, 2)) %>%\n",
    "    # increasing number of filters as image size decreases\n",
    "    layer_conv_2d(filters = 64, kernel_size = c(3, 3), activation = 'relu') %>%\n",
    "    layer_max_pooling_2d(pool_size = c(2, 2)) \n",
    "  model <- model %>%\n",
    "    layer_flatten() %>%\n",
    "    layer_dense(units = 512, activation = 'relu') %>%\n",
    "    layer_dense(units = 1, activation ='sigmoid')\n",
    "  model %>% summary()\n",
    "  \n",
    "  model %>%\n",
    "    compile(\n",
    "      loss = 'binary_crossentropy',\n",
    "      optimizer = optimizer_rmsprop(lr = 0.001),\n",
    "      metrics = 'accuracy'\n",
    "    )\n",
    "  \n",
    "  \n",
    "  \n",
    "  \n",
    "  train_datagen <- image_data_generator(rescale = 1/255)\n",
    "  \n",
    "  # Flow training images in batches of 250 using train_datagen generator\n",
    "  \n",
    "  train_generator <- flow_images_from_directory(\n",
    "    # target directory\n",
    "    directory = train_dir,\n",
    "    # training data generator\n",
    "    generator = train_datagen,\n",
    "    # resizing the images to the same dimensions expected by our NN\n",
    "    target_size = c(150, 150),\n",
    "    # 250 images at a time to be fed into the NN\n",
    "    batch_size = 250,\n",
    "    # Since we use binary_crossentropy loss, we need binary label arrays\n",
    "    class_mode = 'binary'\n",
    "  )\n",
    "  \n",
    "  \n",
    "  \n",
    "  validation_datagen <- image_data_generator(rescale = 1/255)\n",
    "  \n",
    "  validation_generator <- flow_images_from_directory(\n",
    "    # target directory\n",
    "    directory = test_dir,\n",
    "    # testing data generator\n",
    "    generator = validation_datagen,\n",
    "    # resizing the images to the same dimensions expected by our NN\n",
    "    target_size = c(150, 150),\n",
    "    # 250 images at a time to be fed into the NN\n",
    "    batch_size = 250,\n",
    "    # Since we use binary_crossentropy loss, we need binary label arrays\n",
    "    class_mode = 'binary'\n",
    "  )\n",
    "  \n",
    "  \n",
    "  history <- model %>% fit_generator(\n",
    "    generator = train_generator,\n",
    "    # Total number of steps (batches of samples) to yield\n",
    "    #before declaring one epoch finished and starting the next epoch.\n",
    "    steps_per_epoch = 90,\n",
    "    # An epoch is an iteration over the entire data provided\n",
    "    epochs = 15,\n",
    "    validation_data = validation_generator,\n",
    "    validation_steps = 5\n",
    "  )\n",
    "  \n",
    "\n",
    "  \n",
    "  \n",
    "  "
   ]
  },
  {
   "cell_type": "code",
   "execution_count": null,
   "metadata": {},
   "outputs": [],
   "source": []
  }
 ],
 "metadata": {
  "kernelspec": {
   "display_name": "Python 3",
   "language": "python",
   "name": "python3"
  },
  "language_info": {
   "codemirror_mode": {
    "name": "ipython",
    "version": 3
   },
   "file_extension": ".py",
   "mimetype": "text/x-python",
   "name": "python",
   "nbconvert_exporter": "python",
   "pygments_lexer": "ipython3",
   "version": "3.7.4"
  }
 },
 "nbformat": 4,
 "nbformat_minor": 2
}
