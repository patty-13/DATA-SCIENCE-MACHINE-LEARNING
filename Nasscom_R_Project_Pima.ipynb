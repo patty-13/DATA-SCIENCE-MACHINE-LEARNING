{
 "cells": [
  {
   "cell_type": "code",
   "execution_count": 2,
   "metadata": {},
   "outputs": [],
   "source": [
    "library(caret)\n",
    "library(mlbench)\n",
    "library(dplyr)\n",
    "library(base)\n",
    "library(caTools)\n",
    "library(e1071)\n",
    "library(ROCR)\n",
    "library(Metrics)\n",
    "library(ggplot2)\n",
    "library(rpart)\n",
    "library(randomForest)\n",
    "library(class)\n"
   ]
  },
  {
   "cell_type": "markdown",
   "metadata": {},
   "source": [
    "# LOADING THE DATASET"
   ]
  },
  {
   "cell_type": "code",
   "execution_count": 3,
   "metadata": {},
   "outputs": [
    {
     "data": {
      "text/html": [
       "<table>\n",
       "<thead><tr><th scope=col>X6</th><th scope=col>X148</th><th scope=col>X72</th><th scope=col>X35</th><th scope=col>X0</th><th scope=col>X33.6</th><th scope=col>X0.627</th><th scope=col>X50</th><th scope=col>X1</th></tr></thead>\n",
       "<tbody>\n",
       "\t<tr><td>1    </td><td> 85  </td><td>66   </td><td>29   </td><td>  0  </td><td>26.6 </td><td>0.351</td><td>31   </td><td>0    </td></tr>\n",
       "\t<tr><td>8    </td><td>183  </td><td>64   </td><td> 0   </td><td>  0  </td><td>23.3 </td><td>0.672</td><td>32   </td><td>1    </td></tr>\n",
       "\t<tr><td>1    </td><td> 89  </td><td>66   </td><td>23   </td><td> 94  </td><td>28.1 </td><td>0.167</td><td>21   </td><td>0    </td></tr>\n",
       "\t<tr><td>0    </td><td>137  </td><td>40   </td><td>35   </td><td>168  </td><td>43.1 </td><td>2.288</td><td>33   </td><td>1    </td></tr>\n",
       "\t<tr><td>5    </td><td>116  </td><td>74   </td><td> 0   </td><td>  0  </td><td>25.6 </td><td>0.201</td><td>30   </td><td>0    </td></tr>\n",
       "\t<tr><td>3    </td><td> 78  </td><td>50   </td><td>32   </td><td> 88  </td><td>31.0 </td><td>0.248</td><td>26   </td><td>1    </td></tr>\n",
       "</tbody>\n",
       "</table>\n"
      ],
      "text/latex": [
       "\\begin{tabular}{r|lllllllll}\n",
       " X6 & X148 & X72 & X35 & X0 & X33.6 & X0.627 & X50 & X1\\\\\n",
       "\\hline\n",
       "\t 1     &  85   & 66    & 29    &   0   & 26.6  & 0.351 & 31    & 0    \\\\\n",
       "\t 8     & 183   & 64    &  0    &   0   & 23.3  & 0.672 & 32    & 1    \\\\\n",
       "\t 1     &  89   & 66    & 23    &  94   & 28.1  & 0.167 & 21    & 0    \\\\\n",
       "\t 0     & 137   & 40    & 35    & 168   & 43.1  & 2.288 & 33    & 1    \\\\\n",
       "\t 5     & 116   & 74    &  0    &   0   & 25.6  & 0.201 & 30    & 0    \\\\\n",
       "\t 3     &  78   & 50    & 32    &  88   & 31.0  & 0.248 & 26    & 1    \\\\\n",
       "\\end{tabular}\n"
      ],
      "text/markdown": [
       "\n",
       "| X6 | X148 | X72 | X35 | X0 | X33.6 | X0.627 | X50 | X1 |\n",
       "|---|---|---|---|---|---|---|---|---|\n",
       "| 1     |  85   | 66    | 29    |   0   | 26.6  | 0.351 | 31    | 0     |\n",
       "| 8     | 183   | 64    |  0    |   0   | 23.3  | 0.672 | 32    | 1     |\n",
       "| 1     |  89   | 66    | 23    |  94   | 28.1  | 0.167 | 21    | 0     |\n",
       "| 0     | 137   | 40    | 35    | 168   | 43.1  | 2.288 | 33    | 1     |\n",
       "| 5     | 116   | 74    |  0    |   0   | 25.6  | 0.201 | 30    | 0     |\n",
       "| 3     |  78   | 50    | 32    |  88   | 31.0  | 0.248 | 26    | 1     |\n",
       "\n"
      ],
      "text/plain": [
       "  X6 X148 X72 X35 X0  X33.6 X0.627 X50 X1\n",
       "1 1   85  66  29    0 26.6  0.351  31  0 \n",
       "2 8  183  64   0    0 23.3  0.672  32  1 \n",
       "3 1   89  66  23   94 28.1  0.167  21  0 \n",
       "4 0  137  40  35  168 43.1  2.288  33  1 \n",
       "5 5  116  74   0    0 25.6  0.201  30  0 \n",
       "6 3   78  50  32   88 31.0  0.248  26  1 "
      ]
     },
     "metadata": {},
     "output_type": "display_data"
    }
   ],
   "source": [
    "pima <- read.csv(\"C:/Users/Praty/OneDrive/Desktop/pima-indians-diabetes.csv\")\n",
    "head(pima)"
   ]
  },
  {
   "cell_type": "code",
   "execution_count": 25,
   "metadata": {},
   "outputs": [],
   "source": [
    "# FINDING THE OUTLIERS BY BOX PLOT\n",
    "#boxplot(pima$X1~.,data = pima, xlab = 'a', ylab= 'b', main = 'pima data')"
   ]
  },
  {
   "cell_type": "code",
   "execution_count": 3,
   "metadata": {},
   "outputs": [
    {
     "data": {
      "text/plain": [
       "       X6              X148            X72             X35       \n",
       " Min.   : 0.000   Min.   :  0.0   Min.   :  0.0   Min.   : 0.00  \n",
       " 1st Qu.: 1.000   1st Qu.: 99.0   1st Qu.: 62.0   1st Qu.: 0.00  \n",
       " Median : 3.000   Median :117.0   Median : 72.0   Median :23.00  \n",
       " Mean   : 3.842   Mean   :120.9   Mean   : 69.1   Mean   :20.52  \n",
       " 3rd Qu.: 6.000   3rd Qu.:140.0   3rd Qu.: 80.0   3rd Qu.:32.00  \n",
       " Max.   :17.000   Max.   :199.0   Max.   :122.0   Max.   :99.00  \n",
       "       X0            X33.6           X0.627            X50       \n",
       " Min.   :  0.0   Min.   : 0.00   Min.   :0.0780   Min.   :21.00  \n",
       " 1st Qu.:  0.0   1st Qu.:27.30   1st Qu.:0.2435   1st Qu.:24.00  \n",
       " Median : 32.0   Median :32.00   Median :0.3710   Median :29.00  \n",
       " Mean   : 79.9   Mean   :31.99   Mean   :0.4717   Mean   :33.22  \n",
       " 3rd Qu.:127.5   3rd Qu.:36.60   3rd Qu.:0.6250   3rd Qu.:41.00  \n",
       " Max.   :846.0   Max.   :67.10   Max.   :2.4200   Max.   :81.00  \n",
       "       X1        \n",
       " Min.   :0.0000  \n",
       " 1st Qu.:0.0000  \n",
       " Median :0.0000  \n",
       " Mean   :0.3481  \n",
       " 3rd Qu.:1.0000  \n",
       " Max.   :1.0000  "
      ]
     },
     "metadata": {},
     "output_type": "display_data"
    }
   ],
   "source": [
    "# Data cleaning and data information\n",
    "summary(pima)"
   ]
  },
  {
   "cell_type": "code",
   "execution_count": 5,
   "metadata": {},
   "outputs": [
    {
     "data": {
      "text/html": [
       "<dl class=dl-horizontal>\n",
       "\t<dt>X6</dt>\n",
       "\t\t<dd>'integer'</dd>\n",
       "\t<dt>X148</dt>\n",
       "\t\t<dd>'integer'</dd>\n",
       "\t<dt>X72</dt>\n",
       "\t\t<dd>'integer'</dd>\n",
       "\t<dt>X35</dt>\n",
       "\t\t<dd>'integer'</dd>\n",
       "\t<dt>X0</dt>\n",
       "\t\t<dd>'integer'</dd>\n",
       "\t<dt>X33.6</dt>\n",
       "\t\t<dd>'numeric'</dd>\n",
       "\t<dt>X0.627</dt>\n",
       "\t\t<dd>'numeric'</dd>\n",
       "\t<dt>X50</dt>\n",
       "\t\t<dd>'integer'</dd>\n",
       "\t<dt>X1</dt>\n",
       "\t\t<dd>'integer'</dd>\n",
       "</dl>\n"
      ],
      "text/latex": [
       "\\begin{description*}\n",
       "\\item[X6] 'integer'\n",
       "\\item[X148] 'integer'\n",
       "\\item[X72] 'integer'\n",
       "\\item[X35] 'integer'\n",
       "\\item[X0] 'integer'\n",
       "\\item[X33.6] 'numeric'\n",
       "\\item[X0.627] 'numeric'\n",
       "\\item[X50] 'integer'\n",
       "\\item[X1] 'integer'\n",
       "\\end{description*}\n"
      ],
      "text/markdown": [
       "X6\n",
       ":   'integer'X148\n",
       ":   'integer'X72\n",
       ":   'integer'X35\n",
       ":   'integer'X0\n",
       ":   'integer'X33.6\n",
       ":   'numeric'X0.627\n",
       ":   'numeric'X50\n",
       ":   'integer'X1\n",
       ":   'integer'\n",
       "\n"
      ],
      "text/plain": [
       "       X6      X148       X72       X35        X0     X33.6    X0.627       X50 \n",
       "\"integer\" \"integer\" \"integer\" \"integer\" \"integer\" \"numeric\" \"numeric\" \"integer\" \n",
       "       X1 \n",
       "\"integer\" "
      ]
     },
     "metadata": {},
     "output_type": "display_data"
    }
   ],
   "source": [
    "# checking the datatypes of variables\n",
    "sapply(pima, class)"
   ]
  },
  {
   "cell_type": "code",
   "execution_count": 6,
   "metadata": {},
   "outputs": [
    {
     "data": {
      "text/html": [
       "0"
      ],
      "text/latex": [
       "0"
      ],
      "text/markdown": [
       "0"
      ],
      "text/plain": [
       "[1] 0"
      ]
     },
     "metadata": {},
     "output_type": "display_data"
    }
   ],
   "source": [
    "# Finding the missing values in pima dataset\n",
    "head(sum(is.na(pima)))"
   ]
  },
  {
   "cell_type": "code",
   "execution_count": 22,
   "metadata": {},
   "outputs": [],
   "source": [
    "nom1 = preProcess(pima[,c(1:9)], method=c('center','scale'))\n",
    "#nom1 = preProcess(pima[,c(1:9)], method=c('range'))\n",
    "norm1 = predict(nom1, pima[,c(1:9)])\n"
   ]
  },
  {
   "cell_type": "markdown",
   "metadata": {},
   "source": [
    "# APPLYING MACHINE LEARNING MODELS"
   ]
  },
  {
   "cell_type": "code",
   "execution_count": 20,
   "metadata": {},
   "outputs": [],
   "source": [
    "#APPLYING MODELS\n",
    "Train = createDataPartition(norm1$X1, p =0.8, list = FALSE)\n",
    "train_data = pima[Train,]\n",
    "test_data = pima[-Train,]"
   ]
  },
  {
   "cell_type": "markdown",
   "metadata": {},
   "source": [
    "# LOGISTIC REGRESSION"
   ]
  },
  {
   "cell_type": "code",
   "execution_count": 23,
   "metadata": {},
   "outputs": [
    {
     "data": {
      "text/plain": [
       "Confusion Matrix and Statistics\n",
       "\n",
       "          Reference\n",
       "Prediction  0  1\n",
       "         0 89 26\n",
       "         1  8 30\n",
       "                                          \n",
       "               Accuracy : 0.7778          \n",
       "                 95% CI : (0.7036, 0.8409)\n",
       "    No Information Rate : 0.634           \n",
       "    P-Value [Acc > NIR] : 9.386e-05       \n",
       "                                          \n",
       "                  Kappa : 0.4863          \n",
       "                                          \n",
       " Mcnemar's Test P-Value : 0.003551        \n",
       "                                          \n",
       "            Sensitivity : 0.9175          \n",
       "            Specificity : 0.5357          \n",
       "         Pos Pred Value : 0.7739          \n",
       "         Neg Pred Value : 0.7895          \n",
       "              Precision : 0.7739          \n",
       "                 Recall : 0.9175          \n",
       "                     F1 : 0.8396          \n",
       "             Prevalence : 0.6340          \n",
       "         Detection Rate : 0.5817          \n",
       "   Detection Prevalence : 0.7516          \n",
       "      Balanced Accuracy : 0.7266          \n",
       "                                          \n",
       "       'Positive' Class : 0               \n",
       "                                          "
      ]
     },
     "metadata": {},
     "output_type": "display_data"
    }
   ],
   "source": [
    "glmModel = train(factor(X1)~., data = train_data,method='glm',family='binomial')\n",
    "predictTest = predict(glmModel, newdata = test_data)\n",
    "confusionMatrix(predictTest, factor(test_data$X1), mode = 'everything')"
   ]
  },
  {
   "cell_type": "markdown",
   "metadata": {},
   "source": [
    "# DECISION TREES"
   ]
  },
  {
   "cell_type": "code",
   "execution_count": 24,
   "metadata": {},
   "outputs": [
    {
     "data": {
      "text/plain": [
       "Confusion Matrix and Statistics\n",
       "\n",
       "          Reference\n",
       "Prediction  0  1\n",
       "         0 88 26\n",
       "         1  9 30\n",
       "                                          \n",
       "               Accuracy : 0.7712          \n",
       "                 95% CI : (0.6965, 0.8352)\n",
       "    No Information Rate : 0.634           \n",
       "    P-Value [Acc > NIR] : 0.0001906       \n",
       "                                          \n",
       "                  Kappa : 0.4733          \n",
       "                                          \n",
       " Mcnemar's Test P-Value : 0.0068409       \n",
       "                                          \n",
       "            Sensitivity : 0.9072          \n",
       "            Specificity : 0.5357          \n",
       "         Pos Pred Value : 0.7719          \n",
       "         Neg Pred Value : 0.7692          \n",
       "              Precision : 0.7719          \n",
       "                 Recall : 0.9072          \n",
       "                     F1 : 0.8341          \n",
       "             Prevalence : 0.6340          \n",
       "         Detection Rate : 0.5752          \n",
       "   Detection Prevalence : 0.7451          \n",
       "      Balanced Accuracy : 0.7215          \n",
       "                                          \n",
       "       'Positive' Class : 0               \n",
       "                                          "
      ]
     },
     "metadata": {},
     "output_type": "display_data"
    }
   ],
   "source": [
    "DT = train(factor(X1)~., data = train_data, method = 'rpart')\n",
    "pt1 = predict(DT, newdata = test_data)\n",
    "cf1 = confusionMatrix(pt1, reference = factor(test_data$X1), mode = 'everything')\n",
    "cf1"
   ]
  },
  {
   "cell_type": "markdown",
   "metadata": {},
   "source": [
    "# KNN CLASSIFIER"
   ]
  },
  {
   "cell_type": "code",
   "execution_count": 25,
   "metadata": {},
   "outputs": [
    {
     "name": "stderr",
     "output_type": "stream",
     "text": [
      "Warning message in `!=.default`(KNN, train_data$X1):\n",
      "\"longer object length is not a multiple of shorter object length\"Warning message in is.na(e1) | is.na(e2):\n",
      "\"longer object length is not a multiple of shorter object length\""
     ]
    },
    {
     "name": "stdout",
     "output_type": "stream",
     "text": [
      "[1] 0.5602606\n"
     ]
    }
   ],
   "source": [
    "KNN <- knn(train = train_data, test = test_data, cl = train_data$X1, k = 20) \n",
    "m1 = mean(KNN != train_data$X1)\n",
    "print(1-m1)"
   ]
  },
  {
   "cell_type": "markdown",
   "metadata": {},
   "source": [
    "# NAIVE BAYES CLASSIFIER"
   ]
  },
  {
   "cell_type": "code",
   "execution_count": 26,
   "metadata": {},
   "outputs": [
    {
     "data": {
      "text/plain": [
       "Confusion Matrix and Statistics\n",
       "\n",
       "   predictTest2\n",
       "     0  1\n",
       "  0 87 10\n",
       "  1 20 36\n",
       "                                          \n",
       "               Accuracy : 0.8039          \n",
       "                 95% CI : (0.7321, 0.8636)\n",
       "    No Information Rate : 0.6993          \n",
       "    P-Value [Acc > NIR] : 0.002339        \n",
       "                                          \n",
       "                  Kappa : 0.5609          \n",
       "                                          \n",
       " Mcnemar's Test P-Value : 0.100348        \n",
       "                                          \n",
       "            Sensitivity : 0.8131          \n",
       "            Specificity : 0.7826          \n",
       "         Pos Pred Value : 0.8969          \n",
       "         Neg Pred Value : 0.6429          \n",
       "              Precision : 0.8969          \n",
       "                 Recall : 0.8131          \n",
       "                     F1 : 0.8529          \n",
       "             Prevalence : 0.6993          \n",
       "         Detection Rate : 0.5686          \n",
       "   Detection Prevalence : 0.6340          \n",
       "      Balanced Accuracy : 0.7978          \n",
       "                                          \n",
       "       'Positive' Class : 0               \n",
       "                                          "
      ]
     },
     "metadata": {},
     "output_type": "display_data"
    }
   ],
   "source": [
    "NAIVE_BAYES = naiveBayes(factor(X1) ~ ., data = train_data) \n",
    "predictTest2 = predict(NAIVE_BAYES,newdata=test_data)\n",
    "cm = table(test_data$X1, predictTest2)\n",
    "confusionMatrix(cm,mode='everything')"
   ]
  },
  {
   "cell_type": "markdown",
   "metadata": {},
   "source": [
    "# SUPPORT VECTOR MACHINE"
   ]
  },
  {
   "cell_type": "code",
   "execution_count": 30,
   "metadata": {},
   "outputs": [
    {
     "data": {
      "text/plain": [
       "Confusion Matrix and Statistics\n",
       "\n",
       "          Reference\n",
       "Prediction  0  1\n",
       "         0 90 24\n",
       "         1  7 32\n",
       "                                         \n",
       "               Accuracy : 0.7974         \n",
       "                 95% CI : (0.7249, 0.858)\n",
       "    No Information Rate : 0.634          \n",
       "    P-Value [Acc > NIR] : 9.013e-06      \n",
       "                                         \n",
       "                  Kappa : 0.5335         \n",
       "                                         \n",
       " Mcnemar's Test P-Value : 0.004057       \n",
       "                                         \n",
       "            Sensitivity : 0.9278         \n",
       "            Specificity : 0.5714         \n",
       "         Pos Pred Value : 0.7895         \n",
       "         Neg Pred Value : 0.8205         \n",
       "              Precision : 0.7895         \n",
       "                 Recall : 0.9278         \n",
       "                     F1 : 0.8531         \n",
       "             Prevalence : 0.6340         \n",
       "         Detection Rate : 0.5882         \n",
       "   Detection Prevalence : 0.7451         \n",
       "      Balanced Accuracy : 0.7496         \n",
       "                                         \n",
       "       'Positive' Class : 0              \n",
       "                                         "
      ]
     },
     "metadata": {},
     "output_type": "display_data"
    }
   ],
   "source": [
    "svmfit = svm(factor(X1)~ ., data = train_data, kernel = \"linear\", cost = 10, scale = FALSE)\n",
    "pt2 = predict(svmfit, newdata=test_data)\n",
    "confusionMatrix(pt2, reference = factor(test_data$X1), mode='everything')"
   ]
  },
  {
   "cell_type": "markdown",
   "metadata": {},
   "source": [
    "# RANDOM FOREST"
   ]
  },
  {
   "cell_type": "code",
   "execution_count": 31,
   "metadata": {},
   "outputs": [],
   "source": [
    "forest = randomForest(factor(X1)~., data = train_data)"
   ]
  },
  {
   "cell_type": "code",
   "execution_count": 32,
   "metadata": {},
   "outputs": [],
   "source": [
    "pt = predict(forest, newdata= test_data)"
   ]
  },
  {
   "cell_type": "code",
   "execution_count": 33,
   "metadata": {},
   "outputs": [
    {
     "data": {
      "text/plain": [
       "Confusion Matrix and Statistics\n",
       "\n",
       "          Reference\n",
       "Prediction  0  1\n",
       "         0 87 23\n",
       "         1 10 33\n",
       "                                          \n",
       "               Accuracy : 0.7843          \n",
       "                 95% CI : (0.7106, 0.8466)\n",
       "    No Information Rate : 0.634           \n",
       "    P-Value [Acc > NIR] : 4.461e-05       \n",
       "                                          \n",
       "                  Kappa : 0.5113          \n",
       "                                          \n",
       " Mcnemar's Test P-Value : 0.03671         \n",
       "                                          \n",
       "            Sensitivity : 0.8969          \n",
       "            Specificity : 0.5893          \n",
       "         Pos Pred Value : 0.7909          \n",
       "         Neg Pred Value : 0.7674          \n",
       "              Precision : 0.7909          \n",
       "                 Recall : 0.8969          \n",
       "                     F1 : 0.8406          \n",
       "             Prevalence : 0.6340          \n",
       "         Detection Rate : 0.5686          \n",
       "   Detection Prevalence : 0.7190          \n",
       "      Balanced Accuracy : 0.7431          \n",
       "                                          \n",
       "       'Positive' Class : 0               \n",
       "                                          "
      ]
     },
     "metadata": {},
     "output_type": "display_data"
    }
   ],
   "source": [
    "confusionMatrix(pt, reference = factor(test_data$X1), mode = 'everything')"
   ]
  },
  {
   "cell_type": "markdown",
   "metadata": {},
   "source": [
    "# XGBOOST"
   ]
  },
  {
   "cell_type": "code",
   "execution_count": 34,
   "metadata": {},
   "outputs": [
    {
     "data": {
      "text/plain": [
       "Confusion Matrix and Statistics\n",
       "\n",
       "          Reference\n",
       "Prediction  0  1\n",
       "         0 83 24\n",
       "         1 14 32\n",
       "                                          \n",
       "               Accuracy : 0.7516          \n",
       "                 95% CI : (0.6754, 0.8179)\n",
       "    No Information Rate : 0.634           \n",
       "    P-Value [Acc > NIR] : 0.001296        \n",
       "                                          \n",
       "                  Kappa : 0.4438          \n",
       "                                          \n",
       " Mcnemar's Test P-Value : 0.144292        \n",
       "                                          \n",
       "            Sensitivity : 0.8557          \n",
       "            Specificity : 0.5714          \n",
       "         Pos Pred Value : 0.7757          \n",
       "         Neg Pred Value : 0.6957          \n",
       "              Precision : 0.7757          \n",
       "                 Recall : 0.8557          \n",
       "                     F1 : 0.8137          \n",
       "             Prevalence : 0.6340          \n",
       "         Detection Rate : 0.5425          \n",
       "   Detection Prevalence : 0.6993          \n",
       "      Balanced Accuracy : 0.7135          \n",
       "                                          \n",
       "       'Positive' Class : 0               \n",
       "                                          "
      ]
     },
     "metadata": {},
     "output_type": "display_data"
    }
   ],
   "source": [
    "control6 = trainControl(method = 'repeatedcv',number = 10,repeats = 3, returnResamp = \"all\",savePredictions = \"all\")\n",
    "\n",
    "XGBoost = train(factor(X1)~., data = train_data , method=\"xgbLinear\", \n",
    "                      trControl =control6,verbose = FALSE)\n",
    "predictTest5 = predict(XGBoost, newdata = test_data)\n",
    "confusionMatrix(predictTest5,reference = factor(test_data$X1),mode = 'everything')"
   ]
  },
  {
   "cell_type": "code",
   "execution_count": null,
   "metadata": {},
   "outputs": [],
   "source": []
  }
 ],
 "metadata": {
  "kernelspec": {
   "display_name": "R",
   "language": "R",
   "name": "ir"
  },
  "language_info": {
   "codemirror_mode": "r",
   "file_extension": ".r",
   "mimetype": "text/x-r-source",
   "name": "R",
   "pygments_lexer": "r",
   "version": "3.6.1"
  }
 },
 "nbformat": 4,
 "nbformat_minor": 2
}
